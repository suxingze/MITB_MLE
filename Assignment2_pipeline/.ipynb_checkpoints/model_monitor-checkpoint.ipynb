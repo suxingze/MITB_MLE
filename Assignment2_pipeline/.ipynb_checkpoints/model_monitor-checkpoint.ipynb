{
 "cells": [
  {
   "cell_type": "code",
   "execution_count": 8,
   "id": "8c57d12f-e692-44d2-8195-a349e27521c3",
   "metadata": {},
   "outputs": [],
   "source": [
    "import argparse\n",
    "import os\n",
    "import glob\n",
    "import pandas as pd\n",
    "import pickle\n",
    "import matplotlib.pyplot as plt\n",
    "import numpy as np\n",
    "import random\n",
    "from datetime import datetime, timedelta\n",
    "from dateutil.relativedelta import relativedelta\n",
    "import pprint\n",
    "import pyspark\n",
    "import pyspark.sql.functions as F\n",
    "\n",
    "from pyspark.sql.functions import col, to_date\n",
    "from pyspark.sql.types import StringType, IntegerType, FloatType, DateType\n",
    "\n",
    "from sklearn.model_selection import train_test_split\n",
    "from sklearn.preprocessing import StandardScaler\n",
    "\n",
    "import xgboost as xgb\n",
    "from sklearn.model_selection import RandomizedSearchCV\n",
    "from sklearn.metrics import accuracy_score, f1_score, roc_auc_score, confusion_matrix, classification_report\n",
    "from sklearn.datasets import make_classification\n",
    "from sklearn.model_selection import train_test_split"
   ]
  },
  {
   "cell_type": "code",
   "execution_count": 9,
   "id": "750bdb58-d0b6-4d26-911a-873e36bb5c19",
   "metadata": {},
   "outputs": [],
   "source": [
    "# Initialize SparkSession\n",
    "spark = pyspark.sql.SparkSession.builder \\\n",
    "    .appName(\"dev\") \\\n",
    "    .master(\"local[*]\") \\\n",
    "    .getOrCreate()\n",
    "\n",
    "# Set log level to ERROR to hide warnings\n",
    "spark.sparkContext.setLogLevel(\"ERROR\")"
   ]
  },
  {
   "cell_type": "markdown",
   "id": "513d3fae-95c6-46c1-91e5-14807bf11f1c",
   "metadata": {},
   "source": [
    "## set up config"
   ]
  },
  {
   "cell_type": "code",
   "execution_count": 10,
   "id": "e8e0ed89-bb37-4d95-8f67-ace977469c3a",
   "metadata": {},
   "outputs": [],
   "source": [
    "snapshot_date_str = \"2024-01-01\"\n",
    "model_name = \"credit_model_2024_09_01.pkl\""
   ]
  },
  {
   "cell_type": "code",
   "execution_count": 11,
   "id": "19108a14-26ba-4543-a38d-7065f9e27a23",
   "metadata": {},
   "outputs": [
    {
     "name": "stdout",
     "output_type": "stream",
     "text": [
      "{'snapshot_date': datetime.datetime(2024, 1, 1, 0, 0),\n",
      " 'snapshot_date_str': '2024-01-01'}\n"
     ]
    }
   ],
   "source": [
    "# --- set up config ---\n",
    "config = {}\n",
    "config[\"snapshot_date_str\"] = snapshot_date_str\n",
    "config[\"snapshot_date\"] = datetime.strptime(config[\"snapshot_date_str\"], \"%Y-%m-%d\")\n",
    "\n",
    "pprint.pprint(config)"
   ]
  },
  {
   "cell_type": "markdown",
   "id": "733f81fc-e40b-4aed-8c14-978e1007f17c",
   "metadata": {},
   "source": [
    "## load prediction result"
   ]
  },
  {
   "cell_type": "code",
   "execution_count": 28,
   "id": "0f69f3be-27c7-46cc-9983-c771eac3d953",
   "metadata": {},
   "outputs": [
    {
     "name": "stdout",
     "output_type": "stream",
     "text": [
      "+-----------+-------------+--------------------+-------------------+\n",
      "|Customer_ID|snapshot_date|          model_name|  model_predictions|\n",
      "+-----------+-------------+--------------------+-------------------+\n",
      "| CUS_0x9e5f|   2024-11-01|credit_model_2024...| 0.6832869052886963|\n",
      "| CUS_0xbe64|   2024-11-01|credit_model_2024...|0.14518484473228455|\n",
      "| CUS_0xc3d5|   2024-11-01|credit_model_2024...|0.25410333275794983|\n",
      "| CUS_0x9ce3|   2024-11-01|credit_model_2024...|0.47862982749938965|\n",
      "| CUS_0x26da|   2024-11-01|credit_model_2024...|0.13304248452186584|\n",
      "| CUS_0x4da9|   2024-11-01|credit_model_2024...| 0.5791769623756409|\n",
      "| CUS_0x3d09|   2024-11-01|credit_model_2024...|  0.455234169960022|\n",
      "| CUS_0x1a2f|   2024-11-01|credit_model_2024...|0.13843978941440582|\n",
      "| CUS_0x8643|   2024-11-01|credit_model_2024...| 0.4067968428134918|\n",
      "| CUS_0x13a8|   2024-11-01|credit_model_2024...|0.17660976946353912|\n",
      "| CUS_0xc2a1|   2024-11-01|credit_model_2024...| 0.6888681054115295|\n",
      "| CUS_0x1233|   2024-11-01|credit_model_2024...|0.10988380759954453|\n",
      "| CUS_0xc5cb|   2024-11-01|credit_model_2024...|0.18666507303714752|\n",
      "| CUS_0x9906|   2024-11-01|credit_model_2024...|0.23404757678508759|\n",
      "| CUS_0x33ce|   2024-11-01|credit_model_2024...|0.15308597683906555|\n",
      "| CUS_0x44cb|   2024-11-01|credit_model_2024...|0.15754085779190063|\n",
      "| CUS_0xbfe0|   2024-11-01|credit_model_2024...| 0.7101169228553772|\n",
      "| CUS_0xc38f|   2024-11-01|credit_model_2024...| 0.7507757544517517|\n",
      "| CUS_0x8a90|   2024-11-01|credit_model_2024...|0.15277525782585144|\n",
      "| CUS_0x1fbb|   2024-11-01|credit_model_2024...| 0.5699728727340698|\n",
      "+-----------+-------------+--------------------+-------------------+\n",
      "only showing top 20 rows\n",
      "\n"
     ]
    }
   ],
   "source": [
    "# --- load prediction result ---\n",
    "folder_path_1 = \"datamart/gold/model_predictions/credit_model_2024_09_01/\"\n",
    "files_list_1 = [folder_path_1+os.path.basename(f) for f in glob.glob(os.path.join(folder_path_1, '*'))]\n",
    "\n",
    "# Load CSV into DataFrame - connect to prediction store\n",
    "prediction_sdf = spark.read.parquet(*files_list_1)\n",
    "prediction_sdf.show()"
   ]
  },
  {
   "cell_type": "code",
   "execution_count": 29,
   "id": "8721e132-64cb-4b70-9a82-0b2d88c8f57c",
   "metadata": {},
   "outputs": [
    {
     "name": "stderr",
     "output_type": "stream",
     "text": [
      "[Stage 11:=============================>                            (2 + 2) / 4]"
     ]
    },
    {
     "name": "stdout",
     "output_type": "stream",
     "text": [
      "+-----------+-------------+--------------------+-------------------+---------------+\n",
      "|Customer_ID|snapshot_date|          model_name|  model_predictions|predicted_label|\n",
      "+-----------+-------------+--------------------+-------------------+---------------+\n",
      "| CUS_0xc5cc|   2024-01-01|credit_model_2024...|  0.286805659532547|              0|\n",
      "| CUS_0x5f86|   2024-01-01|credit_model_2024...|0.16115139424800873|              0|\n",
      "| CUS_0xa788|   2024-01-01|credit_model_2024...| 0.6790107488632202|              1|\n",
      "| CUS_0xb756|   2024-01-01|credit_model_2024...| 0.4280065894126892|              0|\n",
      "| CUS_0x8b96|   2024-01-01|credit_model_2024...| 0.3511424660682678|              0|\n",
      "| CUS_0x5a7d|   2024-01-01|credit_model_2024...|0.09726028144359589|              0|\n",
      "| CUS_0xc653|   2024-01-01|credit_model_2024...|0.08351144194602966|              0|\n",
      "| CUS_0x8d74|   2024-01-01|credit_model_2024...|0.17322394251823425|              0|\n",
      "| CUS_0x94f4|   2024-01-01|credit_model_2024...|0.12394533306360245|              0|\n",
      "| CUS_0x2296|   2024-01-01|credit_model_2024...|0.09512200206518173|              0|\n",
      "| CUS_0x85f4|   2024-01-01|credit_model_2024...|0.09658306837081909|              0|\n",
      "| CUS_0x2d84|   2024-01-01|credit_model_2024...|0.08546272665262222|              0|\n",
      "| CUS_0x3556|   2024-01-01|credit_model_2024...|0.18694543838500977|              0|\n",
      "| CUS_0x24e1|   2024-01-01|credit_model_2024...|0.15530790388584137|              0|\n",
      "| CUS_0x720a|   2024-01-01|credit_model_2024...| 0.7277502417564392|              1|\n",
      "| CUS_0x6683|   2024-01-01|credit_model_2024...|0.15230806171894073|              0|\n",
      "| CUS_0x2c55|   2024-01-01|credit_model_2024...|0.16081149876117706|              0|\n",
      "| CUS_0x72ce|   2024-01-01|credit_model_2024...| 0.3485797047615051|              0|\n",
      "| CUS_0x853c|   2024-01-01|credit_model_2024...| 0.1868707835674286|              0|\n",
      "| CUS_0xbca6|   2024-01-01|credit_model_2024...|0.26097390055656433|              0|\n",
      "+-----------+-------------+--------------------+-------------------+---------------+\n",
      "only showing top 20 rows\n",
      "\n"
     ]
    },
    {
     "name": "stderr",
     "output_type": "stream",
     "text": [
      "                                                                                "
     ]
    }
   ],
   "source": [
    "# Ensure snapshot_date is in date format\n",
    "prediction_sdf = prediction_sdf.withColumn(\"snapshot_date\", to_date(col(\"snapshot_date\")))\n",
    "\n",
    "# Filter the DataFrame for the specific snapshot_date\n",
    "prediction_sdf = prediction_sdf.filter(col(\"snapshot_date\") == config[\"snapshot_date\"])\n",
    "prediction_sdf = prediction_sdf.withColumn(\"predicted_label\", F.when(col(\"model_predictions\") >= 0.5, 1).otherwise(0))\n",
    "prediction_sdf.show()"
   ]
  },
  {
   "cell_type": "markdown",
   "id": "cca872ac-c2c4-44c9-822d-6a490bbe069c",
   "metadata": {},
   "source": [
    "## load label"
   ]
  },
  {
   "cell_type": "code",
   "execution_count": 32,
   "id": "1e5d9b54-858a-40b3-8e11-09211001a351",
   "metadata": {},
   "outputs": [
    {
     "name": "stdout",
     "output_type": "stream",
     "text": [
      "+--------------------+-----------+-----+----------+-------------+\n",
      "|             loan_id|Customer_ID|label| label_def|snapshot_date|\n",
      "+--------------------+-----------+-----+----------+-------------+\n",
      "|CUS_0x1130_2023_0...| CUS_0x1130|    0|30dpd_6mob|   2024-01-01|\n",
      "|CUS_0x11d1_2023_0...| CUS_0x11d1|    0|30dpd_6mob|   2024-01-01|\n",
      "|CUS_0x11eb_2023_0...| CUS_0x11eb|    0|30dpd_6mob|   2024-01-01|\n",
      "|CUS_0x120c_2023_0...| CUS_0x120c|    1|30dpd_6mob|   2024-01-01|\n",
      "|CUS_0x124a_2023_0...| CUS_0x124a|    0|30dpd_6mob|   2024-01-01|\n",
      "|CUS_0x12ce_2023_0...| CUS_0x12ce|    1|30dpd_6mob|   2024-01-01|\n",
      "|CUS_0x13b0_2023_0...| CUS_0x13b0|    0|30dpd_6mob|   2024-01-01|\n",
      "|CUS_0x13d6_2023_0...| CUS_0x13d6|    1|30dpd_6mob|   2024-01-01|\n",
      "|CUS_0x13de_2023_0...| CUS_0x13de|    0|30dpd_6mob|   2024-01-01|\n",
      "|CUS_0x13ec_2023_0...| CUS_0x13ec|    0|30dpd_6mob|   2024-01-01|\n",
      "|CUS_0x13f6_2023_0...| CUS_0x13f6|    0|30dpd_6mob|   2024-01-01|\n",
      "|CUS_0x14a3_2023_0...| CUS_0x14a3|    0|30dpd_6mob|   2024-01-01|\n",
      "|CUS_0x14b3_2023_0...| CUS_0x14b3|    0|30dpd_6mob|   2024-01-01|\n",
      "|CUS_0x14b9_2023_0...| CUS_0x14b9|    0|30dpd_6mob|   2024-01-01|\n",
      "|CUS_0x150c_2023_0...| CUS_0x150c|    0|30dpd_6mob|   2024-01-01|\n",
      "|CUS_0x15e7_2023_0...| CUS_0x15e7|    0|30dpd_6mob|   2024-01-01|\n",
      "|CUS_0x1647_2023_0...| CUS_0x1647|    0|30dpd_6mob|   2024-01-01|\n",
      "|CUS_0x165e_2023_0...| CUS_0x165e|    0|30dpd_6mob|   2024-01-01|\n",
      "|CUS_0x17e8_2023_0...| CUS_0x17e8|    0|30dpd_6mob|   2024-01-01|\n",
      "|CUS_0x17f0_2023_0...| CUS_0x17f0|    0|30dpd_6mob|   2024-01-01|\n",
      "+--------------------+-----------+-----+----------+-------------+\n",
      "only showing top 20 rows\n",
      "\n"
     ]
    }
   ],
   "source": [
    "# --- load label  ---\n",
    "folder_path_2 = \"datamart/gold/label_store/\"\n",
    "files_list_2 = [folder_path_2+os.path.basename(f) for f in glob.glob(os.path.join(folder_path_2, '*'))]\n",
    "\n",
    "# Load CSV into DataFrame - connect to label store\n",
    "label_sdf = spark.read.option(\"header\", \"true\").parquet(*files_list_2)\n",
    "\n",
    "# Ensure snapshot_date is in date format\n",
    "label_sdf = label_sdf.withColumn(\"snapshot_date\", to_date(col(\"snapshot_date\")))\n",
    "\n",
    "# Filter the DataFrame for the specific snapshot_date\n",
    "label_sdf = label_sdf.filter(col(\"snapshot_date\") == config[\"snapshot_date\"])\n",
    "\n",
    "label_sdf.show()"
   ]
  },
  {
   "cell_type": "code",
   "execution_count": 33,
   "id": "076c8323-d438-4551-a011-26a803d60fac",
   "metadata": {},
   "outputs": [
    {
     "name": "stderr",
     "output_type": "stream",
     "text": [
      "                                                                                "
     ]
    },
    {
     "data": {
      "text/html": [
       "<div>\n",
       "<style scoped>\n",
       "    .dataframe tbody tr th:only-of-type {\n",
       "        vertical-align: middle;\n",
       "    }\n",
       "\n",
       "    .dataframe tbody tr th {\n",
       "        vertical-align: top;\n",
       "    }\n",
       "\n",
       "    .dataframe thead th {\n",
       "        text-align: right;\n",
       "    }\n",
       "</style>\n",
       "<table border=\"1\" class=\"dataframe\">\n",
       "  <thead>\n",
       "    <tr style=\"text-align: right;\">\n",
       "      <th></th>\n",
       "      <th>Customer_ID</th>\n",
       "      <th>loan_id</th>\n",
       "      <th>label</th>\n",
       "      <th>label_def</th>\n",
       "      <th>snapshot_date</th>\n",
       "      <th>snapshot_date</th>\n",
       "      <th>model_name</th>\n",
       "      <th>model_predictions</th>\n",
       "      <th>predicted_label</th>\n",
       "    </tr>\n",
       "  </thead>\n",
       "  <tbody>\n",
       "    <tr>\n",
       "      <th>0</th>\n",
       "      <td>CUS_0x1130</td>\n",
       "      <td>CUS_0x1130_2023_07_01</td>\n",
       "      <td>0</td>\n",
       "      <td>30dpd_6mob</td>\n",
       "      <td>2024-01-01</td>\n",
       "      <td>2024-01-01</td>\n",
       "      <td>credit_model_2024_09_01.pkl</td>\n",
       "      <td>0.096445</td>\n",
       "      <td>0</td>\n",
       "    </tr>\n",
       "    <tr>\n",
       "      <th>1</th>\n",
       "      <td>CUS_0x11d1</td>\n",
       "      <td>CUS_0x11d1_2023_07_01</td>\n",
       "      <td>0</td>\n",
       "      <td>30dpd_6mob</td>\n",
       "      <td>2024-01-01</td>\n",
       "      <td>2024-01-01</td>\n",
       "      <td>credit_model_2024_09_01.pkl</td>\n",
       "      <td>0.177976</td>\n",
       "      <td>0</td>\n",
       "    </tr>\n",
       "    <tr>\n",
       "      <th>2</th>\n",
       "      <td>CUS_0x11eb</td>\n",
       "      <td>CUS_0x11eb_2023_07_01</td>\n",
       "      <td>0</td>\n",
       "      <td>30dpd_6mob</td>\n",
       "      <td>2024-01-01</td>\n",
       "      <td>2024-01-01</td>\n",
       "      <td>credit_model_2024_09_01.pkl</td>\n",
       "      <td>0.129160</td>\n",
       "      <td>0</td>\n",
       "    </tr>\n",
       "    <tr>\n",
       "      <th>3</th>\n",
       "      <td>CUS_0x120c</td>\n",
       "      <td>CUS_0x120c_2023_07_01</td>\n",
       "      <td>1</td>\n",
       "      <td>30dpd_6mob</td>\n",
       "      <td>2024-01-01</td>\n",
       "      <td>2024-01-01</td>\n",
       "      <td>credit_model_2024_09_01.pkl</td>\n",
       "      <td>0.577241</td>\n",
       "      <td>1</td>\n",
       "    </tr>\n",
       "    <tr>\n",
       "      <th>4</th>\n",
       "      <td>CUS_0x124a</td>\n",
       "      <td>CUS_0x124a_2023_07_01</td>\n",
       "      <td>0</td>\n",
       "      <td>30dpd_6mob</td>\n",
       "      <td>2024-01-01</td>\n",
       "      <td>2024-01-01</td>\n",
       "      <td>credit_model_2024_09_01.pkl</td>\n",
       "      <td>0.113944</td>\n",
       "      <td>0</td>\n",
       "    </tr>\n",
       "    <tr>\n",
       "      <th>...</th>\n",
       "      <td>...</td>\n",
       "      <td>...</td>\n",
       "      <td>...</td>\n",
       "      <td>...</td>\n",
       "      <td>...</td>\n",
       "      <td>...</td>\n",
       "      <td>...</td>\n",
       "      <td>...</td>\n",
       "      <td>...</td>\n",
       "    </tr>\n",
       "    <tr>\n",
       "      <th>466</th>\n",
       "      <td>CUS_0xf2e</td>\n",
       "      <td>CUS_0xf2e_2023_07_01</td>\n",
       "      <td>0</td>\n",
       "      <td>30dpd_6mob</td>\n",
       "      <td>2024-01-01</td>\n",
       "      <td>2024-01-01</td>\n",
       "      <td>credit_model_2024_09_01.pkl</td>\n",
       "      <td>0.789582</td>\n",
       "      <td>1</td>\n",
       "    </tr>\n",
       "    <tr>\n",
       "      <th>467</th>\n",
       "      <td>CUS_0xf5d</td>\n",
       "      <td>CUS_0xf5d_2023_07_01</td>\n",
       "      <td>1</td>\n",
       "      <td>30dpd_6mob</td>\n",
       "      <td>2024-01-01</td>\n",
       "      <td>2024-01-01</td>\n",
       "      <td>credit_model_2024_09_01.pkl</td>\n",
       "      <td>0.264715</td>\n",
       "      <td>0</td>\n",
       "    </tr>\n",
       "    <tr>\n",
       "      <th>468</th>\n",
       "      <td>CUS_0xf8f</td>\n",
       "      <td>CUS_0xf8f_2023_07_01</td>\n",
       "      <td>1</td>\n",
       "      <td>30dpd_6mob</td>\n",
       "      <td>2024-01-01</td>\n",
       "      <td>2024-01-01</td>\n",
       "      <td>credit_model_2024_09_01.pkl</td>\n",
       "      <td>0.614932</td>\n",
       "      <td>1</td>\n",
       "    </tr>\n",
       "    <tr>\n",
       "      <th>469</th>\n",
       "      <td>CUS_0xfaa</td>\n",
       "      <td>CUS_0xfaa_2023_07_01</td>\n",
       "      <td>0</td>\n",
       "      <td>30dpd_6mob</td>\n",
       "      <td>2024-01-01</td>\n",
       "      <td>2024-01-01</td>\n",
       "      <td>credit_model_2024_09_01.pkl</td>\n",
       "      <td>0.471838</td>\n",
       "      <td>0</td>\n",
       "    </tr>\n",
       "    <tr>\n",
       "      <th>470</th>\n",
       "      <td>CUS_0xfb8</td>\n",
       "      <td>CUS_0xfb8_2023_07_01</td>\n",
       "      <td>0</td>\n",
       "      <td>30dpd_6mob</td>\n",
       "      <td>2024-01-01</td>\n",
       "      <td>2024-01-01</td>\n",
       "      <td>credit_model_2024_09_01.pkl</td>\n",
       "      <td>0.040566</td>\n",
       "      <td>0</td>\n",
       "    </tr>\n",
       "  </tbody>\n",
       "</table>\n",
       "<p>471 rows × 9 columns</p>\n",
       "</div>"
      ],
      "text/plain": [
       "    Customer_ID                loan_id  label   label_def snapshot_date  \\\n",
       "0    CUS_0x1130  CUS_0x1130_2023_07_01      0  30dpd_6mob    2024-01-01   \n",
       "1    CUS_0x11d1  CUS_0x11d1_2023_07_01      0  30dpd_6mob    2024-01-01   \n",
       "2    CUS_0x11eb  CUS_0x11eb_2023_07_01      0  30dpd_6mob    2024-01-01   \n",
       "3    CUS_0x120c  CUS_0x120c_2023_07_01      1  30dpd_6mob    2024-01-01   \n",
       "4    CUS_0x124a  CUS_0x124a_2023_07_01      0  30dpd_6mob    2024-01-01   \n",
       "..          ...                    ...    ...         ...           ...   \n",
       "466   CUS_0xf2e   CUS_0xf2e_2023_07_01      0  30dpd_6mob    2024-01-01   \n",
       "467   CUS_0xf5d   CUS_0xf5d_2023_07_01      1  30dpd_6mob    2024-01-01   \n",
       "468   CUS_0xf8f   CUS_0xf8f_2023_07_01      1  30dpd_6mob    2024-01-01   \n",
       "469   CUS_0xfaa   CUS_0xfaa_2023_07_01      0  30dpd_6mob    2024-01-01   \n",
       "470   CUS_0xfb8   CUS_0xfb8_2023_07_01      0  30dpd_6mob    2024-01-01   \n",
       "\n",
       "    snapshot_date                   model_name  model_predictions  \\\n",
       "0      2024-01-01  credit_model_2024_09_01.pkl           0.096445   \n",
       "1      2024-01-01  credit_model_2024_09_01.pkl           0.177976   \n",
       "2      2024-01-01  credit_model_2024_09_01.pkl           0.129160   \n",
       "3      2024-01-01  credit_model_2024_09_01.pkl           0.577241   \n",
       "4      2024-01-01  credit_model_2024_09_01.pkl           0.113944   \n",
       "..            ...                          ...                ...   \n",
       "466    2024-01-01  credit_model_2024_09_01.pkl           0.789582   \n",
       "467    2024-01-01  credit_model_2024_09_01.pkl           0.264715   \n",
       "468    2024-01-01  credit_model_2024_09_01.pkl           0.614932   \n",
       "469    2024-01-01  credit_model_2024_09_01.pkl           0.471838   \n",
       "470    2024-01-01  credit_model_2024_09_01.pkl           0.040566   \n",
       "\n",
       "     predicted_label  \n",
       "0                  0  \n",
       "1                  0  \n",
       "2                  0  \n",
       "3                  1  \n",
       "4                  0  \n",
       "..               ...  \n",
       "466                1  \n",
       "467                0  \n",
       "468                1  \n",
       "469                0  \n",
       "470                0  \n",
       "\n",
       "[471 rows x 9 columns]"
      ]
     },
     "execution_count": 33,
     "metadata": {},
     "output_type": "execute_result"
    }
   ],
   "source": [
    "# join two feature tables\n",
    "monitor_sdf = label_sdf.join(prediction_sdf, on=[\"Customer_ID\"], how=\"left\")\n",
    "monitor_pdf = monitor_sdf.toPandas()\n",
    "monitor_pdf"
   ]
  },
  {
   "cell_type": "markdown",
   "id": "ab93f6fa-6798-4174-b4b1-6f37fc2fee20",
   "metadata": {},
   "source": [
    "## evaluate"
   ]
  },
  {
   "cell_type": "code",
   "execution_count": 37,
   "id": "4fe59fa8-35c4-4afd-bebc-6c7d64e70ae7",
   "metadata": {},
   "outputs": [
    {
     "name": "stdout",
     "output_type": "stream",
     "text": [
      "Accuracy: 0.7707\n",
      "F1 Score: 0.5714\n",
      "ROC AUC Score: 0.8177\n"
     ]
    }
   ],
   "source": [
    "# evaluation metrics\n",
    "y_true = monitor_pdf['label']\n",
    "y_pred = monitor_pdf['predicted_label']\n",
    "accuracy = accuracy_score(y_true, y_pred)\n",
    "f1 = f1_score(y_true, y_pred)\n",
    "roc_auc = roc_auc_score(y_true, monitor_pdf['model_predictions'])\n",
    "print(f\"Accuracy: {accuracy:.4f}\")\n",
    "print(f\"F1 Score: {f1:.4f}\")\n",
    "print(f\"ROC AUC Score: {roc_auc:.4f}\")"
   ]
  },
  {
   "cell_type": "code",
   "execution_count": 48,
   "id": "d4ff09ad-5a84-4083-a86d-1c1428e6e6eb",
   "metadata": {},
   "outputs": [
    {
     "data": {
      "text/html": [
       "<div>\n",
       "<style scoped>\n",
       "    .dataframe tbody tr th:only-of-type {\n",
       "        vertical-align: middle;\n",
       "    }\n",
       "\n",
       "    .dataframe tbody tr th {\n",
       "        vertical-align: top;\n",
       "    }\n",
       "\n",
       "    .dataframe thead th {\n",
       "        text-align: right;\n",
       "    }\n",
       "</style>\n",
       "<table border=\"1\" class=\"dataframe\">\n",
       "  <thead>\n",
       "    <tr style=\"text-align: right;\">\n",
       "      <th></th>\n",
       "      <th>model</th>\n",
       "      <th>accuracy</th>\n",
       "      <th>f1</th>\n",
       "      <th>ROC AUC</th>\n",
       "    </tr>\n",
       "  </thead>\n",
       "  <tbody>\n",
       "    <tr>\n",
       "      <th>0</th>\n",
       "      <td>credit_model_2024_09_01_predictions_2024_01_01</td>\n",
       "      <td>0.770701</td>\n",
       "      <td>0.571429</td>\n",
       "      <td>0.817695</td>\n",
       "    </tr>\n",
       "  </tbody>\n",
       "</table>\n",
       "</div>"
      ],
      "text/plain": [
       "                                            model  accuracy        f1  \\\n",
       "0  credit_model_2024_09_01_predictions_2024_01_01  0.770701  0.571429   \n",
       "\n",
       "    ROC AUC  \n",
       "0  0.817695  "
      ]
     },
     "execution_count": 48,
     "metadata": {},
     "output_type": "execute_result"
    }
   ],
   "source": [
    "evaluation = pd.DataFrame()\n",
    "evaluation['model'] = [model_name[:-4] + \"_predictions_\" + snapshot_date_str.replace('-','_')]\n",
    "evaluation['accuracy'] = [accuracy]\n",
    "evaluation['f1'] = [f1]\n",
    "evaluation['ROC AUC'] = [roc_auc]\n",
    "evaluation"
   ]
  },
  {
   "cell_type": "code",
   "execution_count": 51,
   "id": "22cb89eb-a2e4-41c7-9e9d-8c37df386b45",
   "metadata": {},
   "outputs": [
    {
     "name": "stdout",
     "output_type": "stream",
     "text": [
      "saved to: datamart/gold/model_predictions/credit_model_2024_09_01/credit_model_2024_09_01_predictions_2024_01_01.csv\n"
     ]
    }
   ],
   "source": [
    "# save evaluation\n",
    "evaluation_directory = f\"datamart/gold/model_predictions/{model_name[:-4]}/\"\n",
    "partition_name = model_name[:-4] + \"_predictions_\" + snapshot_date_str.replace('-','_') + '.csv'\n",
    "filepath = evaluation_directory + partition_name\n",
    "evaluation.to_csv(filepath)\n",
    "print('saved to:', filepath)"
   ]
  },
  {
   "cell_type": "code",
   "execution_count": null,
   "id": "ff70b4a3-e027-465f-920c-7d102be5317b",
   "metadata": {},
   "outputs": [],
   "source": []
  }
 ],
 "metadata": {
  "kernelspec": {
   "display_name": "Python 3 (ipykernel)",
   "language": "python",
   "name": "python3"
  },
  "language_info": {
   "codemirror_mode": {
    "name": "ipython",
    "version": 3
   },
   "file_extension": ".py",
   "mimetype": "text/x-python",
   "name": "python",
   "nbconvert_exporter": "python",
   "pygments_lexer": "ipython3",
   "version": "3.10.11"
  }
 },
 "nbformat": 4,
 "nbformat_minor": 5
}
