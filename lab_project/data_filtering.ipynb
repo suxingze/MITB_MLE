{
 "cells": [
  {
   "cell_type": "markdown",
   "id": "ffe024a4",
   "metadata": {},
   "source": [
    "# Data Filtering"
   ]
  },
  {
   "cell_type": "code",
   "execution_count": 1,
   "id": "b8e7f563",
   "metadata": {},
   "outputs": [],
   "source": [
    "import pandas as pd\n",
    "\n",
    "df_member = pd.read_csv('data/members_v3.csv')\n",
    "df_transaction = pd.read_csv('data/transactions.csv')\n",
    "df_transaction2 = pd.read_csv('data/transactions_v2.csv')\n",
    "df_logs = pd.read_csv('data/user_logs.csv')\n",
    "df_logs2 = pd.read_csv('data/user_logs_v2.csv')"
   ]
  },
  {
   "cell_type": "code",
   "execution_count": 2,
   "id": "e93ea27a",
   "metadata": {},
   "outputs": [
    {
     "data": {
      "text/plain": [
       "(22978755, 9)"
      ]
     },
     "execution_count": 2,
     "metadata": {},
     "output_type": "execute_result"
    }
   ],
   "source": [
    "all_df_transaction = pd.concat([df_transaction, df_transaction2], axis=0)\n",
    "all_df_transaction.shape"
   ]
  },
  {
   "cell_type": "code",
   "execution_count": 4,
   "id": "2a22253d",
   "metadata": {},
   "outputs": [
    {
     "name": "stdout",
     "output_type": "stream",
     "text": [
      "members: (6769473, 6)\n",
      "transactions: (22978755, 9)\n",
      "logs: (392106543, 9)\n",
      "logs2: (18396362, 9)\n"
     ]
    }
   ],
   "source": [
    "print(f\"members: {df_member.shape}\")\n",
    "print(f\"transactions: {all_df_transaction.shape}\")\n",
    "print(f\"logs: {df_logs.shape}\")\n",
    "print(f\"logs2: {df_logs2.shape}\")"
   ]
  },
  {
   "cell_type": "code",
   "execution_count": 3,
   "id": "fa0668ee",
   "metadata": {},
   "outputs": [
    {
     "name": "stdout",
     "output_type": "stream",
     "text": [
      "282531\n"
     ]
    }
   ],
   "source": [
    "users_with_both_cancel_states = all_df_transaction.groupby('msno')['is_cancel'].agg(set)\n",
    "filtered_msno_initial = users_with_both_cancel_states[users_with_both_cancel_states == {0, 1}].index.to_list()\n",
    "\n",
    "sorted_df = all_df_transaction.sort_values(by=['msno', 'transaction_date'], ascending=[True, False])\n",
    "latest_transactions = sorted_df.drop_duplicates(subset=['msno'], keep='first')\n",
    "users_to_exclude = latest_transactions[latest_transactions['is_cancel'] == 1]['msno'].to_list()\n",
    "\n",
    "filtered_msno_set = set(filtered_msno_initial)\n",
    "users_to_exclude_set = set(users_to_exclude)\n",
    "filtered_msno = list(filtered_msno_set - users_to_exclude_set)\n",
    "print(len(filtered_msno))"
   ]
  },
  {
   "cell_type": "code",
   "execution_count": 5,
   "id": "1d6f3330",
   "metadata": {},
   "outputs": [
    {
     "data": {
      "text/html": [
       "<div>\n",
       "<style scoped>\n",
       "    .dataframe tbody tr th:only-of-type {\n",
       "        vertical-align: middle;\n",
       "    }\n",
       "\n",
       "    .dataframe tbody tr th {\n",
       "        vertical-align: top;\n",
       "    }\n",
       "\n",
       "    .dataframe thead th {\n",
       "        text-align: right;\n",
       "    }\n",
       "</style>\n",
       "<table border=\"1\" class=\"dataframe\">\n",
       "  <thead>\n",
       "    <tr style=\"text-align: right;\">\n",
       "      <th></th>\n",
       "      <th>msno</th>\n",
       "      <th>city</th>\n",
       "      <th>bd</th>\n",
       "      <th>gender</th>\n",
       "      <th>registered_via</th>\n",
       "      <th>registration_init_time</th>\n",
       "    </tr>\n",
       "  </thead>\n",
       "  <tbody>\n",
       "    <tr>\n",
       "      <th>1108581</th>\n",
       "      <td>2dwuk0KQUnCnRvFnDGFyIslHLqG8lFHkyOvfRNwc5XI=</td>\n",
       "      <td>5</td>\n",
       "      <td>0</td>\n",
       "      <td>female</td>\n",
       "      <td>9</td>\n",
       "      <td>20120309</td>\n",
       "    </tr>\n",
       "    <tr>\n",
       "      <th>2860696</th>\n",
       "      <td>Bx13MoR+nVJVVDsatg3fxInFupmO1jSzdkFKMA976t8=</td>\n",
       "      <td>13</td>\n",
       "      <td>33</td>\n",
       "      <td>female</td>\n",
       "      <td>7</td>\n",
       "      <td>20130422</td>\n",
       "    </tr>\n",
       "    <tr>\n",
       "      <th>685587</th>\n",
       "      <td>2ouWnOhbWxdFyjEy8qx/8lr15OzZ0PX9tr6xZP4Ihns=</td>\n",
       "      <td>1</td>\n",
       "      <td>0</td>\n",
       "      <td>NaN</td>\n",
       "      <td>7</td>\n",
       "      <td>20140629</td>\n",
       "    </tr>\n",
       "    <tr>\n",
       "      <th>3381701</th>\n",
       "      <td>QvZtxnHz7yGh07QiFuq0RN1hL5WrzcbKlQTUiroEEyE=</td>\n",
       "      <td>13</td>\n",
       "      <td>0</td>\n",
       "      <td>NaN</td>\n",
       "      <td>9</td>\n",
       "      <td>20110528</td>\n",
       "    </tr>\n",
       "    <tr>\n",
       "      <th>5145811</th>\n",
       "      <td>CUFR22oaKwIwzj4VMey3Mj76B5zawuo2PxsWheNfQ6Q=</td>\n",
       "      <td>5</td>\n",
       "      <td>42</td>\n",
       "      <td>male</td>\n",
       "      <td>9</td>\n",
       "      <td>20141128</td>\n",
       "    </tr>\n",
       "    <tr>\n",
       "      <th>...</th>\n",
       "      <td>...</td>\n",
       "      <td>...</td>\n",
       "      <td>...</td>\n",
       "      <td>...</td>\n",
       "      <td>...</td>\n",
       "      <td>...</td>\n",
       "    </tr>\n",
       "    <tr>\n",
       "      <th>4459643</th>\n",
       "      <td>u2ZFhHBKeaNkXR5IWV88Id6zd5U6tc7Oxv/kVZ1ZQ/s=</td>\n",
       "      <td>1</td>\n",
       "      <td>0</td>\n",
       "      <td>NaN</td>\n",
       "      <td>4</td>\n",
       "      <td>20161020</td>\n",
       "    </tr>\n",
       "    <tr>\n",
       "      <th>5464972</th>\n",
       "      <td>Z3QAHHe2PwgA1TZM7aN7yIO4M6OoT2xdvccutBe6SmE=</td>\n",
       "      <td>1</td>\n",
       "      <td>0</td>\n",
       "      <td>NaN</td>\n",
       "      <td>4</td>\n",
       "      <td>20170311</td>\n",
       "    </tr>\n",
       "    <tr>\n",
       "      <th>705634</th>\n",
       "      <td>Ut82CPYSqaueUjOrv47f9knp2qKcGGUTj3h+oXFBCy8=</td>\n",
       "      <td>22</td>\n",
       "      <td>24</td>\n",
       "      <td>female</td>\n",
       "      <td>9</td>\n",
       "      <td>20130110</td>\n",
       "    </tr>\n",
       "    <tr>\n",
       "      <th>3134719</th>\n",
       "      <td>S84wwJdls1Zzv7+dKkhVgU1bbL6Laoo/tPNdFmzHlaA=</td>\n",
       "      <td>1</td>\n",
       "      <td>0</td>\n",
       "      <td>NaN</td>\n",
       "      <td>4</td>\n",
       "      <td>20151022</td>\n",
       "    </tr>\n",
       "    <tr>\n",
       "      <th>6459479</th>\n",
       "      <td>4ZY+Ds6Ey81f8W8dZCUwEjgzFAn6k3OS9AUnYV1jcSw=</td>\n",
       "      <td>1</td>\n",
       "      <td>0</td>\n",
       "      <td>NaN</td>\n",
       "      <td>4</td>\n",
       "      <td>20160112</td>\n",
       "    </tr>\n",
       "  </tbody>\n",
       "</table>\n",
       "<p>300000 rows × 6 columns</p>\n",
       "</div>"
      ],
      "text/plain": [
       "                                                 msno  city  bd  gender  \\\n",
       "1108581  2dwuk0KQUnCnRvFnDGFyIslHLqG8lFHkyOvfRNwc5XI=     5   0  female   \n",
       "2860696  Bx13MoR+nVJVVDsatg3fxInFupmO1jSzdkFKMA976t8=    13  33  female   \n",
       "685587   2ouWnOhbWxdFyjEy8qx/8lr15OzZ0PX9tr6xZP4Ihns=     1   0     NaN   \n",
       "3381701  QvZtxnHz7yGh07QiFuq0RN1hL5WrzcbKlQTUiroEEyE=    13   0     NaN   \n",
       "5145811  CUFR22oaKwIwzj4VMey3Mj76B5zawuo2PxsWheNfQ6Q=     5  42    male   \n",
       "...                                               ...   ...  ..     ...   \n",
       "4459643  u2ZFhHBKeaNkXR5IWV88Id6zd5U6tc7Oxv/kVZ1ZQ/s=     1   0     NaN   \n",
       "5464972  Z3QAHHe2PwgA1TZM7aN7yIO4M6OoT2xdvccutBe6SmE=     1   0     NaN   \n",
       "705634   Ut82CPYSqaueUjOrv47f9knp2qKcGGUTj3h+oXFBCy8=    22  24  female   \n",
       "3134719  S84wwJdls1Zzv7+dKkhVgU1bbL6Laoo/tPNdFmzHlaA=     1   0     NaN   \n",
       "6459479  4ZY+Ds6Ey81f8W8dZCUwEjgzFAn6k3OS9AUnYV1jcSw=     1   0     NaN   \n",
       "\n",
       "         registered_via  registration_init_time  \n",
       "1108581               9                20120309  \n",
       "2860696               7                20130422  \n",
       "685587                7                20140629  \n",
       "3381701               9                20110528  \n",
       "5145811               9                20141128  \n",
       "...                 ...                     ...  \n",
       "4459643               4                20161020  \n",
       "5464972               4                20170311  \n",
       "705634                9                20130110  \n",
       "3134719               4                20151022  \n",
       "6459479               4                20160112  \n",
       "\n",
       "[300000 rows x 6 columns]"
      ]
     },
     "execution_count": 5,
     "metadata": {},
     "output_type": "execute_result"
    }
   ],
   "source": [
    "filtered_df_member = df_member[df_member['msno'].isin(filtered_msno)].sample(n=150000, random_state=42)\n",
    "filtered_df_member2 = df_member[~df_member['msno'].isin(filtered_msno)].sample(n=150000, random_state=42)\n",
    "filtered_df_member_all = pd.concat([filtered_df_member, filtered_df_member2])\n",
    "filtered_df_member_all"
   ]
  },
  {
   "cell_type": "code",
   "execution_count": 6,
   "id": "a483d8b2",
   "metadata": {},
   "outputs": [
    {
     "data": {
      "text/plain": [
       "(3406383, 9)"
      ]
     },
     "execution_count": 6,
     "metadata": {},
     "output_type": "execute_result"
    }
   ],
   "source": [
    "filtered_df_transaction = all_df_transaction[all_df_transaction['msno'].isin(filtered_df_member_all['msno'])].drop_duplicates()\n",
    "filtered_df_transaction.shape"
   ]
  },
  {
   "cell_type": "code",
   "execution_count": 8,
   "id": "ca38c700",
   "metadata": {},
   "outputs": [],
   "source": [
    "filtered_df_transaction.to_csv('data/transactions_filtered.csv')\n",
    "filtered_df_member_all.to_csv('data/members_filtered.csv')"
   ]
  },
  {
   "cell_type": "code",
   "execution_count": 9,
   "id": "fb715d71",
   "metadata": {},
   "outputs": [
    {
     "data": {
      "text/plain": [
       "(61325062, 9)"
      ]
     },
     "execution_count": 9,
     "metadata": {},
     "output_type": "execute_result"
    }
   ],
   "source": [
    "filtered_df_logs = df_logs[df_logs['msno'].isin(filtered_df_member_all['msno'])]\n",
    "filtered_df_logs2 = df_logs2[df_logs2['msno'].isin(filtered_df_member_all['msno'])]\n",
    "all_df_logs = pd.concat([filtered_df_logs , filtered_df_logs2], axis=0).drop_duplicates()\n",
    "all_df_logs.shape"
   ]
  },
  {
   "cell_type": "code",
   "execution_count": 10,
   "id": "c0a116cf",
   "metadata": {},
   "outputs": [],
   "source": [
    "all_df_logs.to_csv('data/user_logs_filtered.csv')"
   ]
  },
  {
   "cell_type": "code",
   "execution_count": 11,
   "id": "cb4a39aa",
   "metadata": {},
   "outputs": [
    {
     "name": "stdout",
     "output_type": "stream",
     "text": [
      "members: (300000, 6)\n",
      "transactions: (3406383, 9)\n",
      "logs: (61325062, 9)\n"
     ]
    }
   ],
   "source": [
    "print(f\"members: {filtered_df_member_all.shape}\")\n",
    "print(f\"transactions: {filtered_df_transaction.shape}\")\n",
    "print(f\"logs: {all_df_logs.shape}\")"
   ]
  },
  {
   "cell_type": "code",
   "execution_count": null,
   "id": "8340e2e1",
   "metadata": {},
   "outputs": [],
   "source": []
  }
 ],
 "metadata": {
  "kernelspec": {
   "display_name": "Python 3",
   "language": "python",
   "name": "python3"
  },
  "language_info": {
   "codemirror_mode": {
    "name": "ipython",
    "version": 3
   },
   "file_extension": ".py",
   "mimetype": "text/x-python",
   "name": "python",
   "nbconvert_exporter": "python",
   "pygments_lexer": "ipython3",
   "version": "3.13.1"
  }
 },
 "nbformat": 4,
 "nbformat_minor": 5
}
