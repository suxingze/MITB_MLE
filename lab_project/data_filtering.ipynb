{
 "cells": [
  {
   "cell_type": "markdown",
   "id": "ffe024a4",
   "metadata": {},
   "source": [
    "# Data Filtering"
   ]
  },
  {
   "cell_type": "code",
   "execution_count": null,
   "id": "b8e7f563",
   "metadata": {},
   "outputs": [],
   "source": [
    "import pandas as pd\n",
    "\n",
    "df_member = pd.read_csv('data/members_v3.csv')\n",
    "df_transaction = pd.read_csv('data/transactions.csv')\n",
    "df_transaction2 = pd.read_csv('data/transactions_v2.csv')\n",
    "df_logs = pd.read_csv('data/user_logs.csv')\n",
    "df_logs2 = pd.read_csv('data/user_logs_v2.csv')"
   ]
  },
  {
   "cell_type": "code",
   "execution_count": null,
   "id": "e93ea27a",
   "metadata": {},
   "outputs": [],
   "source": [
    "all_df_transaction = pd.concat([df_transaction, df_transaction2], axis=0)"
   ]
  },
  {
   "cell_type": "code",
   "execution_count": null,
   "id": "d18f250d",
   "metadata": {},
   "outputs": [],
   "source": [
    "filtered_msno = all_df_transaction.groupby('msno')['is_cancel'].agg(set).reset_index()\n",
    "filtered_msno = filtered_msno[filtered_msno['is_cancel'] == {0, 1}]\n",
    "filtered_msno"
   ]
  },
  {
   "cell_type": "code",
   "execution_count": null,
   "id": "1d6f3330",
   "metadata": {},
   "outputs": [],
   "source": [
    "filtered_df_member = df_member[df_member['msno'].isin(filtered_msno['msno'])].sample(n=300000, random_state=42)\n",
    "filtered_df_member2 = df_member[~df_member['msno'].isin(filtered_msno['msno'])].sample(n=100000, random_state=42)\n",
    "filtered_df_member_all = pd.concat([filtered_df_member, filtered_df_member2])\n",
    "filtered_df_member_all"
   ]
  },
  {
   "cell_type": "code",
   "execution_count": null,
   "id": "a483d8b2",
   "metadata": {},
   "outputs": [],
   "source": [
    "filtered_df_transaction = all_df_transaction[all_df_transaction['msno'].isin(filtered_df_member_all['msno'])].drop_duplicates()\n",
    "filtered_df_transaction.shape"
   ]
  },
  {
   "cell_type": "code",
   "execution_count": null,
   "id": "fb715d71",
   "metadata": {},
   "outputs": [],
   "source": [
    "filtered_df_logs = df_logs[df_logs['msno'].isin(filtered_df_member_all['msno'])]\n",
    "filtered_df_logs2 = df_logs2[df_logs2['msno'].isin(filtered_df_member_all['msno'])]\n",
    "all_df_logs = pd.concat([filtered_df_logs , filtered_df_logs2], axis=0).drop_duplicates()\n",
    "all_df_logs.shape"
   ]
  },
  {
   "cell_type": "code",
   "execution_count": null,
   "id": "ca38c700",
   "metadata": {},
   "outputs": [],
   "source": [
    "filtered_df_transaction.to_csv('data/transactions_filtered.csv')\n",
    "filtered_df_member_all.to_csv('data/members_filtered.csv')\n",
    "all_df_logs.to_csv('data/user_logs_filtered.csv')"
   ]
  },
  {
   "cell_type": "code",
   "execution_count": null,
   "id": "c0a116cf",
   "metadata": {},
   "outputs": [],
   "source": []
  },
  {
   "cell_type": "code",
   "execution_count": null,
   "id": "cb4a39aa",
   "metadata": {},
   "outputs": [],
   "source": []
  }
 ],
 "metadata": {
  "kernelspec": {
   "display_name": "Python 3",
   "language": "python",
   "name": "python3"
  },
  "language_info": {
   "codemirror_mode": {
    "name": "ipython",
    "version": 3
   },
   "file_extension": ".py",
   "mimetype": "text/x-python",
   "name": "python",
   "nbconvert_exporter": "python",
   "pygments_lexer": "ipython3",
   "version": "3.13.1"
  }
 },
 "nbformat": 4,
 "nbformat_minor": 5
}
